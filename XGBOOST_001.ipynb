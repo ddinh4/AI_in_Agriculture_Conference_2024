{
  "nbformat": 4,
  "nbformat_minor": 0,
  "metadata": {
    "colab": {
      "provenance": [],
      "toc_visible": true,
      "include_colab_link": true
    },
    "kernelspec": {
      "name": "python3",
      "display_name": "Python 3"
    },
    "language_info": {
      "name": "python"
    }
  },
  "cells": [
    {
      "cell_type": "markdown",
      "metadata": {
        "id": "view-in-github",
        "colab_type": "text"
      },
      "source": [
        "<a href=\"https://colab.research.google.com/github/ddinh4/AI_in_Agriculture_Conference_2024/blob/main/XGBOOST_001.ipynb\" target=\"_parent\"><img src=\"https://colab.research.google.com/assets/colab-badge.svg\" alt=\"Open In Colab\"/></a>"
      ]
    },
    {
      "cell_type": "markdown",
      "source": [
        "# 2024 Pre-Conference Worskhop, XGBOOST your Digital Ag Research, Thanos Gentimis, Dina Dinh, Leticia Santos"
      ],
      "metadata": {
        "id": "_sSIZUkwlQug"
      }
    },
    {
      "cell_type": "markdown",
      "source": [
        "In this workshop we will explore the new and promising Machine Learning paradigm of XGBOOST on an information rich agriculture-based dataset. Our goal will be to predict various agronomic indices, including yield and vigor through a python-based code that compares multiple models, with an emphasis on the appropriate use and optimization of those models. This workshop will be using google collab as its primary delivery platform, but there will be optional videos available to the audience that will enable them to port the workshop to their own python-based platforms. No advanced coding experience nor knowledge of the specific models used is required, and all data will be provided, but you will need to bring your own laptops. We encourage the participants to ask questions, and a Github repository will be set up for all FAQ, codes, and recordings."
      ],
      "metadata": {
        "id": "0UJfvYvsPVeO"
      }
    },
    {
      "cell_type": "markdown",
      "source": [
        "# Preamble\n"
      ],
      "metadata": {
        "id": "ftZRFzCaQArx"
      }
    },
    {
      "cell_type": "code",
      "source": [
        "# Basic packages\n",
        "import pandas as pd\n",
        "import os\n",
        "import numpy as np\n",
        "import matplotlib.pyplot as plt"
      ],
      "metadata": {
        "id": "OtgIPQ5IOAzR"
      },
      "execution_count": null,
      "outputs": []
    },
    {
      "cell_type": "markdown",
      "source": [
        "\n",
        "\n",
        "*  [Pandas is a basic package for data wrangling through dataframes. Very reminiscent of R!](https://https://pandas.pydata.org/)\n",
        "*  [os is a platform indepence package for connections](https://https://pkg.go.dev/os)\n",
        "\n",
        "\n"
      ],
      "metadata": {
        "id": "R0AbTw6UOHgO"
      }
    },
    {
      "cell_type": "code",
      "source": [
        "#Preprocessing packages\n",
        "from sklearn.preprocessing import StandardScaler\n",
        "from sklearn.impute import SimpleImputer\n",
        "from sklearn.model_selection import train_test_split, GridSearchCV\n"
      ],
      "metadata": {
        "id": "kqKTINIhOO7c"
      },
      "execution_count": null,
      "outputs": []
    },
    {
      "cell_type": "markdown",
      "source": [
        "Add a quick description of each package here, including a reference"
      ],
      "metadata": {
        "id": "mEH5sXMBOZTQ"
      }
    },
    {
      "cell_type": "code",
      "source": [
        "# Model packages\n",
        "from sklearn.linear_model import LinearRegression\n",
        "import xgboost as xgb\n",
        "from sklearn.ensemble import RandomForestRegressor"
      ],
      "metadata": {
        "id": "s9CKfnkdOelp"
      },
      "execution_count": null,
      "outputs": []
    },
    {
      "cell_type": "markdown",
      "source": [
        "Add a quick description of each package here, including a reference"
      ],
      "metadata": {
        "id": "c7n1j3qdOojF"
      }
    },
    {
      "cell_type": "code",
      "source": [
        "# Accuracy Packages\n",
        "from sklearn.metrics import mean_squared_error\n",
        "from sklearn.metrics import classification_report"
      ],
      "metadata": {
        "id": "yvcZLFL6Oslu"
      },
      "execution_count": null,
      "outputs": []
    },
    {
      "cell_type": "markdown",
      "source": [
        "Add a quick description of each package here including a reference"
      ],
      "metadata": {
        "id": "TBk80tHjO6ci"
      }
    },
    {
      "cell_type": "markdown",
      "source": [
        "# Data Preprocessing"
      ],
      "metadata": {
        "id": "vTb9knrwQVbr"
      }
    },
    {
      "cell_type": "markdown",
      "source": [
        "Reading the dataset from an online repository. Creating the Ex0 dataframe"
      ],
      "metadata": {
        "id": "4Es7nszLlt5p"
      }
    },
    {
      "cell_type": "code",
      "source": [
        "Ex0= pd.read_csv('G:/.shortcut-targets-by-id/1N2GeQNhCJy4B6-unK1KaiWfePgNe9k29//Dina_Dinh/2024_Spring_AIConference/Workshop/Data/HousingData.csv',low_memory=False)"
      ],
      "metadata": {
        "id": "Ng5vQfCyRpfV"
      },
      "execution_count": null,
      "outputs": []
    },
    {
      "cell_type": "markdown",
      "source": [
        "Imputes, using most frequent and creates the Ex1 dataframe"
      ],
      "metadata": {
        "id": "4zySBNCCSVrK"
      }
    },
    {
      "cell_type": "code",
      "source": [
        "imputer = SimpleImputer(strategy='mean') # Inputs the mean as the missing value\n",
        "Ex1=pd.DataFrame(imputer.fit_transform(Ex0), columns=Ex0.columns) # applies the imputer to our dataset"
      ],
      "metadata": {
        "id": "pjgMFsbfSRtX"
      },
      "execution_count": null,
      "outputs": []
    },
    {
      "cell_type": "markdown",
      "source": [
        "# Computing Yield (Regression)"
      ],
      "metadata": {
        "id": "ndXn_CFBliqM"
      }
    },
    {
      "cell_type": "markdown",
      "source": [
        "Move the output column in the beginning"
      ],
      "metadata": {
        "id": "Cf7wvj4aSaCH"
      }
    },
    {
      "cell_type": "code",
      "source": [
        "cols = list(Ex1)\n",
        "cols.insert(0, cols.pop(cols.index('YIELD_OBS')))\n",
        "Ex2=Ex1.loc[:,cols] # final clean dataset with no missing values and the response variable as the first column"
      ],
      "metadata": {
        "id": "OiUKq_1iSerm"
      },
      "execution_count": null,
      "outputs": []
    },
    {
      "cell_type": "markdown",
      "source": [
        "Split into Input and Output"
      ],
      "metadata": {
        "id": "UGrwEdM4lczr"
      }
    },
    {
      "cell_type": "code",
      "source": [
        "X=Ex2.iloc[:,1:len(Ex2.columns)].values # makes all the values of the input variables as a matrix\n",
        "y=Ex2.iloc[:,0].values.flatten() # extracts the y-values\n"
      ],
      "metadata": {
        "id": "xEPaoRJjrTm-"
      },
      "execution_count": null,
      "outputs": []
    },
    {
      "cell_type": "markdown",
      "source": [
        "## Hyperparameter Optimization"
      ],
      "metadata": {
        "id": "mSVYvsCprhSO"
      }
    },
    {
      "cell_type": "markdown",
      "source": [
        "We will be setting two hyperparameter grids, one for Random Forests and the other for XGBOOST. The one for random forests will explore:\n",
        "\n",
        "*   n_estimators: The number of trees\n",
        "*   max_depth:\n",
        "*   max_features:\n",
        "\n"
      ],
      "metadata": {
        "id": "-U8_kC3SrnuE"
      }
    },
    {
      "cell_type": "code",
      "source": [
        "rf_param_grid = {\n",
        "    'n_estimators': range(100, 800, 150),\n",
        "    'max_depth': range(1, 50, 10),\n",
        "    'max_features': range(3, 20, 5),\n",
        "}"
      ],
      "metadata": {
        "id": "4n82SkuDrmbu"
      },
      "execution_count": null,
      "outputs": []
    },
    {
      "cell_type": "markdown",
      "source": [
        "The choices are informed by experience. There are no clear guidelines. And there are more hyperparameters one can tune. It is a matter of balance between accuracy and time.\n",
        "We will be mps setting the hyperparameters for the XGBOOST. These will explore:\n",
        "\n",
        "\n",
        "*   learning_rate: shrinking feature weights to prevent overfitting (slows down process when value is lower which is why it prevents overfitting)\n",
        "*   max_depth: same as RF\n",
        "*   subsample: Setting it to 0.5 means that XGBoost would randomly sample half of the training data prior to growing trees.\n",
        "*   colsample_bytree:\n",
        "*   gamma: specifies the minimum loss reduction required to make a split. The larger gamma is, the more conservative\n",
        "\n"
      ],
      "metadata": {
        "id": "ab3QBRS-rz8y"
      }
    },
    {
      "cell_type": "code",
      "source": [
        "xg_param_grid = {\n",
        "    'learning_rate': np.arange(0, 0.2, 0.01), #\n",
        "    'max_depth': range(1, 10, 2), # same as RF\n",
        "    'subsample': np.arange(0.2, 0.6, 0.1), #\n",
        "    'colsample_bytree': np.arange(0.1, 0.5, 0.1),\n",
        "    'gamma': np.arange(0, 0.4, 0.1) #\n",
        "    }"
      ],
      "metadata": {
        "id": "kyKREtwqsEh2"
      },
      "execution_count": null,
      "outputs": []
    },
    {
      "cell_type": "markdown",
      "source": [
        "Perform a grid search with a 5-fold crossvalidation and all the dataset for Random Forest first and then XGBOOST"
      ],
      "metadata": {
        "id": "6CKfBoO1uJib"
      }
    },
    {
      "cell_type": "code",
      "source": [
        "rf_grid_search = GridSearchCV(RandomForestRegressor(), rf_param_grid, cv=5, n_jobs=-1) # njobs = -1 is for parallel processing\n",
        "rf_grid_search.fit(X, y)\n",
        "\n",
        "xg_grid_search = GridSearchCV(xgb.XGBRegressor(), xg_param_grid, cv=5, n_jobs=-1)\n",
        "xg_grid_search.fit(X, y)"
      ],
      "metadata": {
        "id": "_lbh-LpnvLpb"
      },
      "execution_count": null,
      "outputs": []
    },
    {
      "cell_type": "markdown",
      "source": [
        "Based on the grid search above the best hyperparameters are the following."
      ],
      "metadata": {
        "id": "8CH8Ajyn_9GD"
      }
    }
  ]
}